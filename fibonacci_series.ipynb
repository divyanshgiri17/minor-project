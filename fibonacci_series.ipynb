{
  "nbformat": 4,
  "nbformat_minor": 0,
  "metadata": {
    "colab": {
      "provenance": [],
      "authorship_tag": "ABX9TyNfvw57wfobB6hFGRgxk1V+",
      "include_colab_link": true
    },
    "kernelspec": {
      "name": "python3",
      "display_name": "Python 3"
    },
    "language_info": {
      "name": "python"
    }
  },
  "cells": [
    {
      "cell_type": "markdown",
      "metadata": {
        "id": "view-in-github",
        "colab_type": "text"
      },
      "source": [
        "<a href=\"https://colab.research.google.com/github/divyanshgiri17/minor-project/blob/main/fibonacci_series.ipynb\" target=\"_parent\"><img src=\"https://colab.research.google.com/assets/colab-badge.svg\" alt=\"Open In Colab\"/></a>"
      ]
    },
    {
      "cell_type": "code",
      "execution_count": 4,
      "metadata": {
        "id": "XmucIotDF76O"
      },
      "outputs": [],
      "source": [
        "def fibonacci(n):\n",
        "    a=0\n",
        "    b=1\n",
        "    print(a)\n",
        "    while(n>1):\n",
        "        n=n-1;\n",
        "        temp=a\n",
        "        a=b\n",
        "        b=a+temp\n",
        "        print(a)"
      ]
    },
    {
      "cell_type": "code",
      "source": [
        "a=int(input(\"Enter number to find fibonacci sequence of:\"))\n",
        "fibonacci(a)"
      ],
      "metadata": {
        "colab": {
          "base_uri": "https://localhost:8080/"
        },
        "id": "gNiTThGAGQD-",
        "outputId": "4388f492-e6ec-4108-b9a0-38addd3e7ef5"
      },
      "execution_count": 5,
      "outputs": [
        {
          "output_type": "stream",
          "name": "stdout",
          "text": [
            "Enter number to find fibonacci sequence of:8\n",
            "0\n",
            "1\n",
            "1\n",
            "2\n",
            "3\n",
            "5\n",
            "8\n",
            "13\n"
          ]
        }
      ]
    }
  ]
}