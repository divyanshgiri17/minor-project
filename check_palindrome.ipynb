{
  "nbformat": 4,
  "nbformat_minor": 0,
  "metadata": {
    "colab": {
      "provenance": [],
      "authorship_tag": "ABX9TyOm1gFpkp21rH0Khkw0EVms",
      "include_colab_link": true
    },
    "kernelspec": {
      "name": "python3",
      "display_name": "Python 3"
    },
    "language_info": {
      "name": "python"
    }
  },
  "cells": [
    {
      "cell_type": "markdown",
      "metadata": {
        "id": "view-in-github",
        "colab_type": "text"
      },
      "source": [
        "<a href=\"https://colab.research.google.com/github/divyanshgiri17/minor-project/blob/main/check_palindrome.ipynb\" target=\"_parent\"><img src=\"https://colab.research.google.com/assets/colab-badge.svg\" alt=\"Open In Colab\"/></a>"
      ]
    },
    {
      "cell_type": "code",
      "execution_count": 1,
      "metadata": {
        "id": "EYbmlwvHFNRk"
      },
      "outputs": [],
      "source": [
        "def palindrome(n):\n",
        "    temp=n\n",
        "    rotate=0\n",
        "    while(temp!=0):\n",
        "\n",
        "        rotate=rotate*10+temp%10\n",
        "        temp=temp//10\n",
        "\n",
        "    if(rotate==n):\n",
        "\n",
        "        print(f\"{n} is palindrome\")\n",
        "\n",
        "    else:\n",
        "\n",
        "        print(f\"{n} is not palindrome\")\n",
        ""
      ]
    },
    {
      "cell_type": "code",
      "source": [
        "a=int(input(\"Enter a number :\"))\n",
        "\n",
        "palindrome(a)"
      ],
      "metadata": {
        "colab": {
          "base_uri": "https://localhost:8080/"
        },
        "id": "pLC9eyFjFfD0",
        "outputId": "f52960a5-35b0-4e24-aa47-af78d42261b4"
      },
      "execution_count": 3,
      "outputs": [
        {
          "output_type": "stream",
          "name": "stdout",
          "text": [
            "Enter a number :121\n",
            "121 is palindrome\n"
          ]
        }
      ]
    }
  ]
}