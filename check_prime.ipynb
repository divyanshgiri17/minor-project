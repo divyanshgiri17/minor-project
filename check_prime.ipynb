{
  "nbformat": 4,
  "nbformat_minor": 0,
  "metadata": {
    "colab": {
      "provenance": [],
      "authorship_tag": "ABX9TyPeJ9dqjQxKWdmFoFCDuMJi",
      "include_colab_link": true
    },
    "kernelspec": {
      "name": "python3",
      "display_name": "Python 3"
    },
    "language_info": {
      "name": "python"
    }
  },
  "cells": [
    {
      "cell_type": "markdown",
      "metadata": {
        "id": "view-in-github",
        "colab_type": "text"
      },
      "source": [
        "<a href=\"https://colab.research.google.com/github/divyanshgiri17/minor-project/blob/main/check_prime.ipynb\" target=\"_parent\"><img src=\"https://colab.research.google.com/assets/colab-badge.svg\" alt=\"Open In Colab\"/></a>"
      ]
    },
    {
      "cell_type": "code",
      "execution_count": 1,
      "metadata": {
        "id": "XmucIotDF76O"
      },
      "outputs": [],
      "source": [
        "def prime(a,b):\n",
        "    print (\" Prime number in given range :\")\n",
        "    for j in range(a,b):\n",
        "        count=0\n",
        "        for i in range(2,j):\n",
        "            if j %i == 0:\n",
        "                count+=1\n",
        "        if count ==0 :\n",
        "            print(j)\n",
        ""
      ]
    },
    {
      "cell_type": "code",
      "source": [
        "a=int(input(\"Enter range of number :\"))\n",
        "b=int(input())\n",
        "prime(a,b+1)"
      ],
      "metadata": {
        "colab": {
          "base_uri": "https://localhost:8080/"
        },
        "id": "gNiTThGAGQD-",
        "outputId": "72609c2e-4f35-41bd-f801-2e01294ce73c"
      },
      "execution_count": 3,
      "outputs": [
        {
          "output_type": "stream",
          "name": "stdout",
          "text": [
            "Enter range of number :7\n",
            "77\n",
            " Prime number in given range :\n",
            "7\n",
            "11\n",
            "13\n",
            "17\n",
            "19\n",
            "23\n",
            "29\n",
            "31\n",
            "37\n",
            "41\n",
            "43\n",
            "47\n",
            "53\n",
            "59\n",
            "61\n",
            "67\n",
            "71\n",
            "73\n"
          ]
        }
      ]
    }
  ]
}