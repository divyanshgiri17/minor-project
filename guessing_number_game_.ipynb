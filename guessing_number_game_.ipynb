{
  "nbformat": 4,
  "nbformat_minor": 0,
  "metadata": {
    "colab": {
      "provenance": [],
      "authorship_tag": "ABX9TyM5AnuMxtCiEeg+4Shxe7yt",
      "include_colab_link": true
    },
    "kernelspec": {
      "name": "python3",
      "display_name": "Python 3"
    },
    "language_info": {
      "name": "python"
    }
  },
  "cells": [
    {
      "cell_type": "markdown",
      "metadata": {
        "id": "view-in-github",
        "colab_type": "text"
      },
      "source": [
        "<a href=\"https://colab.research.google.com/github/divyanshgiri17/minor-project/blob/main/guessing_number_game_.ipynb\" target=\"_parent\"><img src=\"https://colab.research.google.com/assets/colab-badge.svg\" alt=\"Open In Colab\"/></a>"
      ]
    },
    {
      "cell_type": "code",
      "execution_count": 1,
      "metadata": {
        "id": "aD0RzHsTC8qw"
      },
      "outputs": [],
      "source": [
        "import random"
      ]
    },
    {
      "cell_type": "code",
      "source": [
        "def check(a,count):\n",
        "\n",
        "\n",
        "    b=int(input(\"Enter your guess\"))\n",
        "    count+=1\n",
        "    if a==b:\n",
        "        print(\"Congratulation!!You guessed the number in \"+ str(count)+\" tries.\")\n",
        "        return 0\n",
        "    else:\n",
        "        if(abs(a-b)>50):\n",
        "            if(a>b):\n",
        "                print(\"Your guess is too far and guess is lower.\")\n",
        "            else:\n",
        "                print(\"Your guess is too far and guess is upper.\")\n",
        "        elif(abs(a-b)>30):\n",
        "            if(a>b):\n",
        "                print(\"Your guess is far and guess is lower.\")\n",
        "            else:\n",
        "                print(\"Your guess is far and guess is upper.\")\n",
        "        elif(abs(a-b)>10):\n",
        "            if(a>b):\n",
        "                print(\"Your guess is near and guess is lower.\")\n",
        "            else:\n",
        "                print(\"Your guess is near and guess is upper.\")\n",
        "\n",
        "        elif(abs(a-b)<10):\n",
        "            if(a>b):\n",
        "                print(\"Your guess is close and guess is lower.\")\n",
        "            else:\n",
        "                print(\"Your guess is close and guess is upper.\")\n",
        "    check(a,count)\n",
        "a= random.randint(1,100)\n",
        "count=0\n",
        "check(a,count)"
      ],
      "metadata": {
        "colab": {
          "base_uri": "https://localhost:8080/"
        },
        "id": "E8ad1KN5DIyT",
        "outputId": "4f2ef073-4be3-44ea-cdac-8482c5ae0ccc"
      },
      "execution_count": 3,
      "outputs": [
        {
          "output_type": "stream",
          "name": "stdout",
          "text": [
            "Enter your guess65\n",
            "Your guess is far and guess is upper.\n",
            "Enter your guess45\n",
            "Your guess is near and guess is upper.\n",
            "Enter your guess36\n",
            "Your guess is near and guess is upper.\n",
            "Enter your guess35\n",
            "Your guess is near and guess is upper.\n",
            "Enter your guess30\n",
            "Your guess is close and guess is upper.\n",
            "Enter your guess56\n",
            "Your guess is far and guess is upper.\n",
            "Enter your guess22\n",
            "Your guess is close and guess is lower.\n",
            "Enter your guess23\n",
            "Congratulation!!You guessed the number in 8 tries.\n"
          ]
        }
      ]
    },
    {
      "cell_type": "code",
      "source": [
        "\n"
      ],
      "metadata": {
        "id": "WBd0xdXyD7wa"
      },
      "execution_count": null,
      "outputs": []
    }
  ]
}